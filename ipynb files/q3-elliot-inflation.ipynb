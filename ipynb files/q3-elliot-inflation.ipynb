{
 "cells": [
  {
   "cell_type": "markdown",
   "metadata": {},
   "source": [
    "# If we're talking about money, should we talk about REAL money?"
   ]
  },
  {
   "cell_type": "markdown",
   "metadata": {},
   "source": [
    "### In this notebook we explore the validity of our previous suggestions by reassessing the methods used through the lens of inflation adjustment. More background on this approach is available in a blog post..."
   ]
  },
  {
   "cell_type": "markdown",
   "metadata": {},
   "source": [
    "We'll begin this process in a similar manner to the previous questions with slight variations in the foundation of variables."
   ]
  },
  {
   "cell_type": "code",
   "execution_count": 2,
   "metadata": {},
   "outputs": [],
   "source": [
    "import pandas as pd\n",
    "import matplotlib.pyplot as plt\n",
    "%matplotlib inline\n",
    "from scipy import stats\n",
    "import seaborn as sns\n",
    "import cpi\n",
    "import warnings\n",
    "warnings.filterwarnings('ignore')\n",
    "cpi.update()\n",
    "sns.set(style=\"ticks\")"
   ]
  },
  {
   "cell_type": "code",
   "execution_count": 3,
   "metadata": {},
   "outputs": [
    {
     "data": {
      "text/plain": [
       "Index(['Unnamed: 0', 'tconst', 'primary_title', 'original_title', 'start_year',\n",
       "       'runtime_minutes', 'averagerating', 'numvotes', 'Crime', 'War',\n",
       "       'Adventure', 'Biography', 'n/a', 'News', 'Sci-Fi', 'Animation',\n",
       "       'Fantasy', 'Short', 'Talk-Show', 'Thriller', 'Family', 'History',\n",
       "       'Horror', 'Drama', 'Reality-TV', 'Romance', 'Music', 'Action',\n",
       "       'Musical', 'Western', 'Game-Show', 'Mystery', 'Sport', 'Comedy',\n",
       "       'Documentary', 'Adult', 'director_1', 'director_2', 'director_3',\n",
       "       'writer_1', 'writer_2', 'writer_3', 'production_budget',\n",
       "       'domestic_gross', 'worldwide_gross', 'release_date', 'genre_ids', 'id',\n",
       "       'original_language', 'original_title_tmdb', 'popularity',\n",
       "       'release_date_tmdb', 'title', 'vote_average', 'vote_count'],\n",
       "      dtype='object')"
      ]
     },
     "execution_count": 3,
     "metadata": {},
     "output_type": "execute_result"
    }
   ],
   "source": [
    "#import data and clean column names:\n",
    "big_chungus = pd.read_csv('../.csv/.etl_csvs/chungus_with_tmdb.csv')\n",
    "big_chungus.columns = ['Unnamed: 0', 'tconst', 'primary_title',\n",
    "       'original_title', 'start_year', 'runtime_minutes',\n",
    "       'averagerating', 'numvotes', 'Crime', 'War', 'Adventure', 'Biography',\n",
    "       'n/a', 'News', 'Sci-Fi', 'Animation', 'Fantasy', 'Short', 'Talk-Show',\n",
    "       'Thriller', 'Family', 'History', 'Horror', 'Drama', 'Reality-TV',\n",
    "       'Romance', 'Music', 'Action', 'Musical', 'Western', 'Game-Show',\n",
    "       'Mystery', 'Sport', 'Comedy', 'Documentary', 'Adult', 'director_1',\n",
    "       'director_2', 'director_3', 'writer_1', 'writer_2', 'writer_3',\n",
    "       'production_budget', 'domestic_gross', 'worldwide_gross',\n",
    "       'release_date', 'genre_ids', 'id', 'original_language',\n",
    "       'original_title_tmdb', 'popularity', 'release_date_tmdb', 'title',\n",
    "       'vote_average', 'vote_count']\n",
    "big_chungus.columns"
   ]
  },
  {
   "cell_type": "code",
   "execution_count": 4,
   "metadata": {},
   "outputs": [
    {
     "name": "stdout",
     "output_type": "stream",
     "text": [
      "<class 'pandas.core.frame.DataFrame'>\n",
      "RangeIndex: 146439 entries, 0 to 146438\n",
      "Data columns (total 6 columns):\n",
      "tconst               146439 non-null object\n",
      "primary_title        146439 non-null object\n",
      "release_date         3950 non-null object\n",
      "domestic_gross       3950 non-null float64\n",
      "worldwide_gross      3950 non-null float64\n",
      "production_budget    3950 non-null float64\n",
      "dtypes: float64(3), object(3)\n",
      "memory usage: 6.7+ MB\n"
     ]
    }
   ],
   "source": [
    "#Extract useful columns\n",
    "money_chungus = big_chungus[\n",
    "    ['tconst','primary_title', 'release_date',\n",
    "    'domestic_gross', 'worldwide_gross','production_budget']]\n",
    "money_chungus.info()"
   ]
  },
  {
   "cell_type": "code",
   "execution_count": 5,
   "metadata": {},
   "outputs": [
    {
     "name": "stdout",
     "output_type": "stream",
     "text": [
      "<class 'pandas.core.frame.DataFrame'>\n",
      "Int64Index: 3950 entries, 20 to 146373\n",
      "Data columns (total 6 columns):\n",
      "tconst               3950 non-null object\n",
      "primary_title        3950 non-null object\n",
      "release_date         3950 non-null object\n",
      "domestic_gross       3950 non-null float64\n",
      "worldwide_gross      3950 non-null float64\n",
      "production_budget    3950 non-null float64\n",
      "dtypes: float64(3), object(3)\n",
      "memory usage: 216.0+ KB\n"
     ]
    }
   ],
   "source": [
    "#Again, we drop everything that we don't have budget/gross data for:\n",
    "money_chungus.dropna(subset=['domestic_gross'], inplace=True)\n",
    "money_chungus.info()"
   ]
  },
  {
   "cell_type": "code",
   "execution_count": 6,
   "metadata": {},
   "outputs": [],
   "source": [
    "#remove values with a budget or worldwide gross of zero\n",
    "money_chungus = money_chungus[money_chungus.production_budget != 0]\n",
    "money_chungus = money_chungus[money_chungus.worldwide_gross != 0]"
   ]
  },
  {
   "cell_type": "code",
   "execution_count": 7,
   "metadata": {},
   "outputs": [],
   "source": [
    "#Let's extract the year from each release date to use in our adjustment formula:\n",
    "money_chungus['year'] = pd.DatetimeIndex(money_chungus['release_date']).year"
   ]
  },
  {
   "cell_type": "code",
   "execution_count": 8,
   "metadata": {},
   "outputs": [
    {
     "data": {
      "text/plain": [
       "0"
      ]
     },
     "execution_count": 8,
     "metadata": {},
     "output_type": "execute_result"
    }
   ],
   "source": [
    "#Since the cpi calculator we're using uses the 2018 cpi as a benchmark, we'll revert all years after 2018 to that value of 100:\n",
    "money_chungus['year'] = money_chungus['year'].replace(2019, 2018)\n",
    "(money_chungus['year'] == 2019).sum()"
   ]
  },
  {
   "cell_type": "code",
   "execution_count": 9,
   "metadata": {},
   "outputs": [
    {
     "data": {
      "text/html": [
       "<div>\n",
       "<style scoped>\n",
       "    .dataframe tbody tr th:only-of-type {\n",
       "        vertical-align: middle;\n",
       "    }\n",
       "\n",
       "    .dataframe tbody tr th {\n",
       "        vertical-align: top;\n",
       "    }\n",
       "\n",
       "    .dataframe thead th {\n",
       "        text-align: right;\n",
       "    }\n",
       "</style>\n",
       "<table border=\"1\" class=\"dataframe\">\n",
       "  <thead>\n",
       "    <tr style=\"text-align: right;\">\n",
       "      <th></th>\n",
       "      <th>tconst</th>\n",
       "      <th>primary_title</th>\n",
       "      <th>release_date</th>\n",
       "      <th>domestic_gross</th>\n",
       "      <th>worldwide_gross</th>\n",
       "      <th>production_budget</th>\n",
       "      <th>year</th>\n",
       "      <th>real_gross</th>\n",
       "      <th>real_budget</th>\n",
       "    </tr>\n",
       "  </thead>\n",
       "  <tbody>\n",
       "    <tr>\n",
       "      <td>20</td>\n",
       "      <td>tt0249516</td>\n",
       "      <td>Foodfight!</td>\n",
       "      <td>2012-12-31</td>\n",
       "      <td>0.0</td>\n",
       "      <td>73706.0</td>\n",
       "      <td>45000000.0</td>\n",
       "      <td>2012</td>\n",
       "      <td>8.207294e+04</td>\n",
       "      <td>5.010830e+07</td>\n",
       "    </tr>\n",
       "    <tr>\n",
       "      <td>33</td>\n",
       "      <td>tt0293429</td>\n",
       "      <td>Mortal Kombat</td>\n",
       "      <td>1995-08-18</td>\n",
       "      <td>70433227.0</td>\n",
       "      <td>122133227.0</td>\n",
       "      <td>20000000.0</td>\n",
       "      <td>1995</td>\n",
       "      <td>2.048833e+08</td>\n",
       "      <td>3.355079e+07</td>\n",
       "    </tr>\n",
       "    <tr>\n",
       "      <td>40</td>\n",
       "      <td>tt0326592</td>\n",
       "      <td>The Overnight</td>\n",
       "      <td>2015-06-19</td>\n",
       "      <td>1109808.0</td>\n",
       "      <td>1165996.0</td>\n",
       "      <td>200000.0</td>\n",
       "      <td>2015</td>\n",
       "      <td>1.257695e+06</td>\n",
       "      <td>2.157288e+05</td>\n",
       "    </tr>\n",
       "    <tr>\n",
       "      <td>48</td>\n",
       "      <td>tt0337692</td>\n",
       "      <td>On the Road</td>\n",
       "      <td>2013-03-22</td>\n",
       "      <td>720828.0</td>\n",
       "      <td>9313302.0</td>\n",
       "      <td>25000000.0</td>\n",
       "      <td>2013</td>\n",
       "      <td>1.022082e+07</td>\n",
       "      <td>2.743607e+07</td>\n",
       "    </tr>\n",
       "    <tr>\n",
       "      <td>54</td>\n",
       "      <td>tt0359950</td>\n",
       "      <td>The Secret Life of Walter Mitty</td>\n",
       "      <td>2013-12-25</td>\n",
       "      <td>58236838.0</td>\n",
       "      <td>187861183.0</td>\n",
       "      <td>91000000.0</td>\n",
       "      <td>2013</td>\n",
       "      <td>2.061669e+08</td>\n",
       "      <td>9.986730e+07</td>\n",
       "    </tr>\n",
       "  </tbody>\n",
       "</table>\n",
       "</div>"
      ],
      "text/plain": [
       "       tconst                    primary_title release_date  domestic_gross  \\\n",
       "20  tt0249516                       Foodfight!   2012-12-31             0.0   \n",
       "33  tt0293429                    Mortal Kombat   1995-08-18      70433227.0   \n",
       "40  tt0326592                    The Overnight   2015-06-19       1109808.0   \n",
       "48  tt0337692                      On the Road   2013-03-22        720828.0   \n",
       "54  tt0359950  The Secret Life of Walter Mitty   2013-12-25      58236838.0   \n",
       "\n",
       "    worldwide_gross  production_budget  year    real_gross   real_budget  \n",
       "20          73706.0         45000000.0  2012  8.207294e+04  5.010830e+07  \n",
       "33      122133227.0         20000000.0  1995  2.048833e+08  3.355079e+07  \n",
       "40        1165996.0           200000.0  2015  1.257695e+06  2.157288e+05  \n",
       "48        9313302.0         25000000.0  2013  1.022082e+07  2.743607e+07  \n",
       "54      187861183.0         91000000.0  2013  2.061669e+08  9.986730e+07  "
      ]
     },
     "execution_count": 9,
     "metadata": {},
     "output_type": "execute_result"
    }
   ],
   "source": [
    "#Now let's use the cpi module to create variables in real dollars\n",
    "money_chungus['real_gross'] = money_chungus.apply(lambda x: cpi.inflate(x.worldwide_gross, x.year), axis=1)\n",
    "money_chungus['real_gross'].astype(int)\n",
    "money_chungus['real_budget'] = money_chungus.apply(lambda x: cpi.inflate(x.production_budget, x.year), axis=1)\n",
    "money_chungus['real_budget'].astype(int)\n",
    "money_chungus.head()"
   ]
  },
  {
   "cell_type": "code",
   "execution_count": 10,
   "metadata": {},
   "outputs": [],
   "source": [
    "# Here we'll create an roi variable AFTER adjusting for inflation:\n",
    "money_chungus['real_roi'] = (money_chungus['real_gross']-money_chungus['real_budget'])/money_chungus['real_budget']"
   ]
  },
  {
   "cell_type": "code",
   "execution_count": 11,
   "metadata": {},
   "outputs": [
    {
     "data": {
      "image/png": "[encoded data removed]",
      "text/plain": [
       "<Figure size 540x540 with 12 Axes>"
      ]
     },
     "metadata": {
      "needs_background": "light"
     },
     "output_type": "display_data"
    }
   ],
   "source": [
    "#We can assume that the distribution of figures is similar so let's look and see a scatter matrix on these points: \n",
    "money_table = money_chungus[['real_budget','real_gross', 'real_roi']]\n",
    "sns.pairplot(money_table);"
   ]
  },
  {
   "cell_type": "code",
   "execution_count": 12,
   "metadata": {},
   "outputs": [
    {
     "data": {
      "text/html": [
       "<div>\n",
       "<style scoped>\n",
       "    .dataframe tbody tr th:only-of-type {\n",
       "        vertical-align: middle;\n",
       "    }\n",
       "\n",
       "    .dataframe tbody tr th {\n",
       "        vertical-align: top;\n",
       "    }\n",
       "\n",
       "    .dataframe thead th {\n",
       "        text-align: right;\n",
       "    }\n",
       "</style>\n",
       "<table border=\"1\" class=\"dataframe\">\n",
       "  <thead>\n",
       "    <tr style=\"text-align: right;\">\n",
       "      <th></th>\n",
       "      <th>real_budget</th>\n",
       "      <th>real_gross</th>\n",
       "      <th>real_roi</th>\n",
       "    </tr>\n",
       "  </thead>\n",
       "  <tbody>\n",
       "    <tr>\n",
       "      <td>real_budget</td>\n",
       "      <td>1.000000</td>\n",
       "      <td>0.522558</td>\n",
       "      <td>-0.103467</td>\n",
       "    </tr>\n",
       "    <tr>\n",
       "      <td>real_gross</td>\n",
       "      <td>0.522558</td>\n",
       "      <td>1.000000</td>\n",
       "      <td>0.313358</td>\n",
       "    </tr>\n",
       "    <tr>\n",
       "      <td>real_roi</td>\n",
       "      <td>-0.103467</td>\n",
       "      <td>0.313358</td>\n",
       "      <td>1.000000</td>\n",
       "    </tr>\n",
       "  </tbody>\n",
       "</table>\n",
       "</div>"
      ],
      "text/plain": [
       "             real_budget  real_gross  real_roi\n",
       "real_budget     1.000000    0.522558 -0.103467\n",
       "real_gross      0.522558    1.000000  0.313358\n",
       "real_roi       -0.103467    0.313358  1.000000"
      ]
     },
     "execution_count": 12,
     "metadata": {},
     "output_type": "execute_result"
    }
   ],
   "source": [
    "money_table.corr()"
   ]
  },
  {
   "cell_type": "markdown",
   "metadata": {},
   "source": [
    "## Looks like budget and revenue have a much smaller, but still statistically significant, correlation when considering figures that are adjusted for inflation."
   ]
  },
  {
   "cell_type": "code",
   "execution_count": 13,
   "metadata": {},
   "outputs": [
    {
     "data": {
      "image/png": "[encoded data removed]",
      "text/plain": [
       "<Figure size 432x288 with 1 Axes>"
      ]
     },
     "metadata": {
      "needs_background": "light"
     },
     "output_type": "display_data"
    }
   ],
   "source": [
    "#The gross values really seem to flatten significantly with a perspective of inflation:\n",
    "sns.scatterplot(money_chungus['real_budget'], money_chungus['real_gross']).set_title('rG & rB');"
   ]
  },
  {
   "cell_type": "code",
   "execution_count": 14,
   "metadata": {},
   "outputs": [
    {
     "data": {
      "image/png": "[encoded data removed]",
      "text/plain": [
       "<Figure size 432x288 with 1 Axes>"
      ]
     },
     "metadata": {
      "needs_background": "light"
     },
     "output_type": "display_data"
    }
   ],
   "source": [
    "#Budget outliers still exist but the threshold has fallen:\n",
    "sns.regplot(money_chungus['real_budget'], money_chungus['real_gross'], x_bins=10).set_title('Inflation Adjusted Revenue & Budget');\n"
   ]
  },
  {
   "cell_type": "code",
   "execution_count": 15,
   "metadata": {},
   "outputs": [
    {
     "data": {
      "text/plain": [
       "375"
      ]
     },
     "execution_count": 15,
     "metadata": {},
     "output_type": "execute_result"
    }
   ],
   "source": [
    "#To adapt to this change, the new definition for top budget can be 100 million\n",
    "top_budgets = money_chungus.loc[money_chungus['real_budget'] > 100_000_000]\n",
    "len(top_budgets)"
   ]
  },
  {
   "cell_type": "code",
   "execution_count": 16,
   "metadata": {},
   "outputs": [
    {
     "data": {
      "image/png": "[encoded data removed]",
      "text/plain": [
       "<Figure size 432x288 with 1 Axes>"
      ]
     },
     "metadata": {
      "needs_background": "light"
     },
     "output_type": "display_data"
    },
    {
     "name": "stdout",
     "output_type": "stream",
     "text": [
      "0.23648200959613785\n"
     ]
    }
   ],
   "source": [
    "normal_budgets = money_chungus.loc[money_chungus['real_budget'] < 100_000_000]\n",
    "slope, intercept, r_value, p_value, std_err = stats.linregress(normal_budgets['real_budget'],normal_budgets['real_gross'])\n",
    "ax = sns.regplot(x=\"real_budget\", y=\"real_gross\", data=normal_budgets, color='b', \n",
    " line_kws={'label':\"y={0:.1f}x+{1:.1f}\".format(slope,intercept)})\n",
    "ax.set_title('rG with Normal rB')\n",
    "ax.legend()\n",
    "plt.show()\n",
    "print(r_value)"
   ]
  },
  {
   "cell_type": "markdown",
   "metadata": {},
   "source": [
    "## Inflation adjusted figures show a much less significant connection between budget and revenue under $100 million."
   ]
  },
  {
   "cell_type": "code",
   "execution_count": 17,
   "metadata": {},
   "outputs": [
    {
     "data": {
      "image/png": "[encoded data removed]",
      "text/plain": [
       "<Figure size 432x288 with 1 Axes>"
      ]
     },
     "metadata": {
      "needs_background": "light"
     },
     "output_type": "display_data"
    },
    {
     "name": "stdout",
     "output_type": "stream",
     "text": [
      "0.6262691393051816\n"
     ]
    }
   ],
   "source": [
    "#Does this hold true for big budget movies? \n",
    "slope, intercept, r_value, p_value, std_err = stats.linregress(top_budgets['real_budget'],top_budgets['real_gross'])\n",
    "axtop = sns.regplot(x=\"real_budget\", y=\"real_gross\", data=top_budgets, color='b', \n",
    " line_kws={'label':\"y={0:.1f}x+{1:.1f}\".format(slope,intercept)})\n",
    "axtop.legend()\n",
    "axtop.set_title('rG with Top rB')\n",
    "plt.show()\n",
    "print(r_value)"
   ]
  },
  {
   "cell_type": "markdown",
   "metadata": {},
   "source": [
    "## Not too surprisingly, the top movie budgets actually show a higher correlation and return when figures are adjusted for inflation."
   ]
  },
  {
   "cell_type": "markdown",
   "metadata": {},
   "source": [
    "# This is where we previously looked at ROI but a cursory analysis shows that there is little  change in the projections from the regression analysis previously established so let's check out our work with genre:"
   ]
  },
  {
   "cell_type": "code",
   "execution_count": 18,
   "metadata": {},
   "outputs": [
    {
     "name": "stdout",
     "output_type": "stream",
     "text": [
      "<class 'pandas.core.frame.DataFrame'>\n",
      "RangeIndex: 146439 entries, 0 to 146438\n",
      "Data columns (total 37 columns):\n",
      "tconst               146439 non-null object\n",
      "primary_title        146439 non-null object\n",
      "release_date         3950 non-null object\n",
      "domestic_gross       3950 non-null float64\n",
      "worldwide_gross      3950 non-null float64\n",
      "production_budget    3950 non-null float64\n",
      "runtime_minutes      114651 non-null float64\n",
      "popularity           19272 non-null float64\n",
      "director_1           140691 non-null object\n",
      "writer_1             110488 non-null object\n",
      "Crime                146439 non-null float64\n",
      "War                  146439 non-null float64\n",
      "Adventure            146439 non-null float64\n",
      "Biography            146439 non-null float64\n",
      "News                 146439 non-null float64\n",
      "Sci-Fi               146439 non-null float64\n",
      "Animation            146439 non-null float64\n",
      "Fantasy              146439 non-null float64\n",
      "Short                146439 non-null float64\n",
      "Talk-Show            146439 non-null float64\n",
      "Thriller             146439 non-null float64\n",
      "Family               146439 non-null float64\n",
      "History              146439 non-null float64\n",
      "Horror               146439 non-null float64\n",
      "Drama                146439 non-null float64\n",
      "Reality-TV           146439 non-null float64\n",
      "Romance              146439 non-null float64\n",
      "Music                146439 non-null float64\n",
      "Action               146439 non-null float64\n",
      "Musical              146439 non-null float64\n",
      "Western              146439 non-null float64\n",
      "Game-Show            146439 non-null float64\n",
      "Mystery              146439 non-null float64\n",
      "Sport                146439 non-null float64\n",
      "Comedy               146439 non-null float64\n",
      "Documentary          146439 non-null float64\n",
      "Adult                146439 non-null float64\n",
      "dtypes: float64(32), object(5)\n",
      "memory usage: 41.3+ MB\n"
     ]
    }
   ],
   "source": [
    "#Make a new dataframe from different variables:\n",
    "pop_chungus = big_chungus[['tconst','primary_title', 'release_date',\n",
    "    'domestic_gross', 'worldwide_gross','production_budget',\n",
    "    'runtime_minutes','popularity','director_1', 'writer_1',\n",
    "    'Crime', 'War','Adventure', 'Biography', 'News', 'Sci-Fi', \n",
    "    'Animation','Fantasy', 'Short', 'Talk-Show', 'Thriller', 'Family',\n",
    "    'History', 'Horror', 'Drama', 'Reality-TV', 'Romance', 'Music', 'Action',\n",
    "    'Musical', 'Western', 'Game-Show', 'Mystery', 'Sport', 'Comedy',\n",
    "    'Documentary', 'Adult']]\n",
    "pop_chungus.info()"
   ]
  },
  {
   "cell_type": "code",
   "execution_count": 19,
   "metadata": {},
   "outputs": [],
   "source": [
    "#We'll have to deal with fewer entries here in order to ensure we're applying the proper date for the fiscal figures:\n",
    "pop_chungus.dropna(subset=['worldwide_gross'], inplace=True)"
   ]
  },
  {
   "cell_type": "code",
   "execution_count": 20,
   "metadata": {},
   "outputs": [],
   "source": [
    "# Let's extract the year and add it to this table:\n",
    "pop_chungus['year'] = pd.DatetimeIndex(pop_chungus['release_date']).year\n"
   ]
  },
  {
   "cell_type": "code",
   "execution_count": 21,
   "metadata": {},
   "outputs": [
    {
     "data": {
      "text/html": [
       "<div>\n",
       "<style scoped>\n",
       "    .dataframe tbody tr th:only-of-type {\n",
       "        vertical-align: middle;\n",
       "    }\n",
       "\n",
       "    .dataframe tbody tr th {\n",
       "        vertical-align: top;\n",
       "    }\n",
       "\n",
       "    .dataframe thead th {\n",
       "        text-align: right;\n",
       "    }\n",
       "</style>\n",
       "<table border=\"1\" class=\"dataframe\">\n",
       "  <thead>\n",
       "    <tr style=\"text-align: right;\">\n",
       "      <th></th>\n",
       "      <th>tconst</th>\n",
       "      <th>primary_title</th>\n",
       "      <th>release_date</th>\n",
       "      <th>domestic_gross</th>\n",
       "      <th>worldwide_gross</th>\n",
       "      <th>production_budget</th>\n",
       "      <th>runtime_minutes</th>\n",
       "      <th>popularity</th>\n",
       "      <th>director_1</th>\n",
       "      <th>writer_1</th>\n",
       "      <th>...</th>\n",
       "      <th>Action</th>\n",
       "      <th>Musical</th>\n",
       "      <th>Western</th>\n",
       "      <th>Game-Show</th>\n",
       "      <th>Mystery</th>\n",
       "      <th>Sport</th>\n",
       "      <th>Comedy</th>\n",
       "      <th>Documentary</th>\n",
       "      <th>Adult</th>\n",
       "      <th>year</th>\n",
       "    </tr>\n",
       "  </thead>\n",
       "  <tbody>\n",
       "    <tr>\n",
       "      <td>20</td>\n",
       "      <td>tt0249516</td>\n",
       "      <td>Foodfight!</td>\n",
       "      <td>2012-12-31</td>\n",
       "      <td>0.0</td>\n",
       "      <td>73706.0</td>\n",
       "      <td>45000000.0</td>\n",
       "      <td>91.0</td>\n",
       "      <td>4.705</td>\n",
       "      <td>nm0440415</td>\n",
       "      <td>nm0440415</td>\n",
       "      <td>...</td>\n",
       "      <td>1.0</td>\n",
       "      <td>0.0</td>\n",
       "      <td>0.0</td>\n",
       "      <td>0.0</td>\n",
       "      <td>0.0</td>\n",
       "      <td>0.0</td>\n",
       "      <td>1.0</td>\n",
       "      <td>0.0</td>\n",
       "      <td>0.0</td>\n",
       "      <td>2012</td>\n",
       "    </tr>\n",
       "    <tr>\n",
       "      <td>33</td>\n",
       "      <td>tt0293429</td>\n",
       "      <td>Mortal Kombat</td>\n",
       "      <td>1995-08-18</td>\n",
       "      <td>70433227.0</td>\n",
       "      <td>122133227.0</td>\n",
       "      <td>20000000.0</td>\n",
       "      <td>NaN</td>\n",
       "      <td>NaN</td>\n",
       "      <td>nm2585406</td>\n",
       "      <td>nm3859643</td>\n",
       "      <td>...</td>\n",
       "      <td>1.0</td>\n",
       "      <td>0.0</td>\n",
       "      <td>0.0</td>\n",
       "      <td>0.0</td>\n",
       "      <td>0.0</td>\n",
       "      <td>0.0</td>\n",
       "      <td>0.0</td>\n",
       "      <td>0.0</td>\n",
       "      <td>0.0</td>\n",
       "      <td>1995</td>\n",
       "    </tr>\n",
       "    <tr>\n",
       "      <td>40</td>\n",
       "      <td>tt0326592</td>\n",
       "      <td>The Overnight</td>\n",
       "      <td>2015-06-19</td>\n",
       "      <td>1109808.0</td>\n",
       "      <td>1165996.0</td>\n",
       "      <td>200000.0</td>\n",
       "      <td>88.0</td>\n",
       "      <td>6.576</td>\n",
       "      <td>nm1208371</td>\n",
       "      <td>nm1170333</td>\n",
       "      <td>...</td>\n",
       "      <td>0.0</td>\n",
       "      <td>0.0</td>\n",
       "      <td>0.0</td>\n",
       "      <td>0.0</td>\n",
       "      <td>0.0</td>\n",
       "      <td>0.0</td>\n",
       "      <td>0.0</td>\n",
       "      <td>0.0</td>\n",
       "      <td>0.0</td>\n",
       "      <td>2015</td>\n",
       "    </tr>\n",
       "    <tr>\n",
       "      <td>48</td>\n",
       "      <td>tt0337692</td>\n",
       "      <td>On the Road</td>\n",
       "      <td>2013-03-22</td>\n",
       "      <td>720828.0</td>\n",
       "      <td>9313302.0</td>\n",
       "      <td>25000000.0</td>\n",
       "      <td>124.0</td>\n",
       "      <td>8.919</td>\n",
       "      <td>nm0758574</td>\n",
       "      <td>nm0449616</td>\n",
       "      <td>...</td>\n",
       "      <td>0.0</td>\n",
       "      <td>0.0</td>\n",
       "      <td>0.0</td>\n",
       "      <td>0.0</td>\n",
       "      <td>0.0</td>\n",
       "      <td>0.0</td>\n",
       "      <td>0.0</td>\n",
       "      <td>0.0</td>\n",
       "      <td>0.0</td>\n",
       "      <td>2013</td>\n",
       "    </tr>\n",
       "    <tr>\n",
       "      <td>54</td>\n",
       "      <td>tt0359950</td>\n",
       "      <td>The Secret Life of Walter Mitty</td>\n",
       "      <td>2013-12-25</td>\n",
       "      <td>58236838.0</td>\n",
       "      <td>187861183.0</td>\n",
       "      <td>91000000.0</td>\n",
       "      <td>114.0</td>\n",
       "      <td>10.743</td>\n",
       "      <td>nm0001774</td>\n",
       "      <td>nm0175726</td>\n",
       "      <td>...</td>\n",
       "      <td>0.0</td>\n",
       "      <td>0.0</td>\n",
       "      <td>0.0</td>\n",
       "      <td>0.0</td>\n",
       "      <td>0.0</td>\n",
       "      <td>0.0</td>\n",
       "      <td>1.0</td>\n",
       "      <td>0.0</td>\n",
       "      <td>0.0</td>\n",
       "      <td>2013</td>\n",
       "    </tr>\n",
       "  </tbody>\n",
       "</table>\n",
       "<p>5 rows × 38 columns</p>\n",
       "</div>"
      ],
      "text/plain": [
       "       tconst                    primary_title release_date  domestic_gross  \\\n",
       "20  tt0249516                       Foodfight!   2012-12-31             0.0   \n",
       "33  tt0293429                    Mortal Kombat   1995-08-18      70433227.0   \n",
       "40  tt0326592                    The Overnight   2015-06-19       1109808.0   \n",
       "48  tt0337692                      On the Road   2013-03-22        720828.0   \n",
       "54  tt0359950  The Secret Life of Walter Mitty   2013-12-25      58236838.0   \n",
       "\n",
       "    worldwide_gross  production_budget  runtime_minutes  popularity  \\\n",
       "20          73706.0         45000000.0             91.0       4.705   \n",
       "33      122133227.0         20000000.0              NaN         NaN   \n",
       "40        1165996.0           200000.0             88.0       6.576   \n",
       "48        9313302.0         25000000.0            124.0       8.919   \n",
       "54      187861183.0         91000000.0            114.0      10.743   \n",
       "\n",
       "   director_1   writer_1  ...  Action  Musical  Western  Game-Show  Mystery  \\\n",
       "20  nm0440415  nm0440415  ...     1.0      0.0      0.0        0.0      0.0   \n",
       "33  nm2585406  nm3859643  ...     1.0      0.0      0.0        0.0      0.0   \n",
       "40  nm1208371  nm1170333  ...     0.0      0.0      0.0        0.0      0.0   \n",
       "48  nm0758574  nm0449616  ...     0.0      0.0      0.0        0.0      0.0   \n",
       "54  nm0001774  nm0175726  ...     0.0      0.0      0.0        0.0      0.0   \n",
       "\n",
       "    Sport  Comedy  Documentary  Adult  year  \n",
       "20    0.0     1.0          0.0    0.0  2012  \n",
       "33    0.0     0.0          0.0    0.0  1995  \n",
       "40    0.0     0.0          0.0    0.0  2015  \n",
       "48    0.0     0.0          0.0    0.0  2013  \n",
       "54    0.0     1.0          0.0    0.0  2013  \n",
       "\n",
       "[5 rows x 38 columns]"
      ]
     },
     "execution_count": 21,
     "metadata": {},
     "output_type": "execute_result"
    }
   ],
   "source": [
    "# Apply same procedure for cleaning recent nominal values \n",
    "pop_chungus['year'] = pop_chungus['year'].replace(2019, 2018)\n",
    "pop_chungus['year'] = pop_chungus['year'].replace(2020, 2018)\n",
    "(pop_chungus['year'] == 2019).sum()\n",
    "pop_chungus.head()"
   ]
  },
  {
   "cell_type": "code",
   "execution_count": 22,
   "metadata": {},
   "outputs": [
    {
     "name": "stdout",
     "output_type": "stream",
     "text": [
      "<class 'pandas.core.frame.DataFrame'>\n",
      "Int64Index: 3950 entries, 20 to 146373\n",
      "Data columns (total 40 columns):\n",
      "tconst               3950 non-null object\n",
      "primary_title        3950 non-null object\n",
      "release_date         3950 non-null object\n",
      "domestic_gross       3950 non-null float64\n",
      "worldwide_gross      3950 non-null float64\n",
      "production_budget    3950 non-null float64\n",
      "runtime_minutes      3454 non-null float64\n",
      "popularity           3051 non-null float64\n",
      "director_1           3856 non-null object\n",
      "writer_1             3489 non-null object\n",
      "Crime                3950 non-null float64\n",
      "War                  3950 non-null float64\n",
      "Adventure            3950 non-null float64\n",
      "Biography            3950 non-null float64\n",
      "News                 3950 non-null float64\n",
      "Sci-Fi               3950 non-null float64\n",
      "Animation            3950 non-null float64\n",
      "Fantasy              3950 non-null float64\n",
      "Short                3950 non-null float64\n",
      "Talk-Show            3950 non-null float64\n",
      "Thriller             3950 non-null float64\n",
      "Family               3950 non-null float64\n",
      "History              3950 non-null float64\n",
      "Horror               3950 non-null float64\n",
      "Drama                3950 non-null float64\n",
      "Reality-TV           3950 non-null float64\n",
      "Romance              3950 non-null float64\n",
      "Music                3950 non-null float64\n",
      "Action               3950 non-null float64\n",
      "Musical              3950 non-null float64\n",
      "Western              3950 non-null float64\n",
      "Game-Show            3950 non-null float64\n",
      "Mystery              3950 non-null float64\n",
      "Sport                3950 non-null float64\n",
      "Comedy               3950 non-null float64\n",
      "Documentary          3950 non-null float64\n",
      "Adult                3950 non-null float64\n",
      "year                 3950 non-null int64\n",
      "real_gross           3950 non-null float64\n",
      "real_budget          3950 non-null float64\n",
      "dtypes: float64(34), int64(1), object(5)\n",
      "memory usage: 1.2+ MB\n"
     ]
    }
   ],
   "source": [
    "#We'll have to recalculate real values and add those columns as well:\n",
    "pop_chungus['real_gross'] = pop_chungus.apply(lambda x: cpi.inflate(x.worldwide_gross, x.year), axis=1)\n",
    "pop_chungus['real_gross'].astype(int)\n",
    "pop_chungus['real_budget'] = pop_chungus.apply(lambda x: cpi.inflate(x.production_budget, x.year), axis=1)\n",
    "pop_chungus['real_budget'].astype(int)\n",
    "pop_chungus.info()"
   ]
  },
  {
   "cell_type": "code",
   "execution_count": 23,
   "metadata": {},
   "outputs": [
    {
     "data": {
      "text/html": [
       "<div>\n",
       "<style scoped>\n",
       "    .dataframe tbody tr th:only-of-type {\n",
       "        vertical-align: middle;\n",
       "    }\n",
       "\n",
       "    .dataframe tbody tr th {\n",
       "        vertical-align: top;\n",
       "    }\n",
       "\n",
       "    .dataframe thead th {\n",
       "        text-align: right;\n",
       "    }\n",
       "</style>\n",
       "<table border=\"1\" class=\"dataframe\">\n",
       "  <thead>\n",
       "    <tr style=\"text-align: right;\">\n",
       "      <th></th>\n",
       "      <th>level_0</th>\n",
       "      <th>level_1</th>\n",
       "      <th>corr</th>\n",
       "    </tr>\n",
       "  </thead>\n",
       "  <tbody>\n",
       "    <tr>\n",
       "      <td>508</td>\n",
       "      <td>real_gross</td>\n",
       "      <td>Adventure</td>\n",
       "      <td>0.247684</td>\n",
       "    </tr>\n",
       "    <tr>\n",
       "      <td>512</td>\n",
       "      <td>real_gross</td>\n",
       "      <td>Animation</td>\n",
       "      <td>0.166425</td>\n",
       "    </tr>\n",
       "    <tr>\n",
       "      <td>513</td>\n",
       "      <td>real_gross</td>\n",
       "      <td>Fantasy</td>\n",
       "      <td>0.144870</td>\n",
       "    </tr>\n",
       "    <tr>\n",
       "      <td>522</td>\n",
       "      <td>real_gross</td>\n",
       "      <td>Action</td>\n",
       "      <td>0.127591</td>\n",
       "    </tr>\n",
       "    <tr>\n",
       "      <td>511</td>\n",
       "      <td>real_gross</td>\n",
       "      <td>Sci-Fi</td>\n",
       "      <td>0.098950</td>\n",
       "    </tr>\n",
       "    <tr>\n",
       "      <td>515</td>\n",
       "      <td>real_gross</td>\n",
       "      <td>Family</td>\n",
       "      <td>0.063933</td>\n",
       "    </tr>\n",
       "    <tr>\n",
       "      <td>526</td>\n",
       "      <td>real_gross</td>\n",
       "      <td>Comedy</td>\n",
       "      <td>0.020055</td>\n",
       "    </tr>\n",
       "    <tr>\n",
       "      <td>519</td>\n",
       "      <td>real_gross</td>\n",
       "      <td>Reality-TV</td>\n",
       "      <td>-0.006471</td>\n",
       "    </tr>\n",
       "    <tr>\n",
       "      <td>510</td>\n",
       "      <td>real_gross</td>\n",
       "      <td>News</td>\n",
       "      <td>-0.008589</td>\n",
       "    </tr>\n",
       "    <tr>\n",
       "      <td>523</td>\n",
       "      <td>real_gross</td>\n",
       "      <td>Western</td>\n",
       "      <td>-0.012386</td>\n",
       "    </tr>\n",
       "    <tr>\n",
       "      <td>521</td>\n",
       "      <td>real_gross</td>\n",
       "      <td>Music</td>\n",
       "      <td>-0.013505</td>\n",
       "    </tr>\n",
       "    <tr>\n",
       "      <td>507</td>\n",
       "      <td>real_gross</td>\n",
       "      <td>War</td>\n",
       "      <td>-0.016429</td>\n",
       "    </tr>\n",
       "    <tr>\n",
       "      <td>525</td>\n",
       "      <td>real_gross</td>\n",
       "      <td>Sport</td>\n",
       "      <td>-0.019132</td>\n",
       "    </tr>\n",
       "    <tr>\n",
       "      <td>516</td>\n",
       "      <td>real_gross</td>\n",
       "      <td>History</td>\n",
       "      <td>-0.022226</td>\n",
       "    </tr>\n",
       "    <tr>\n",
       "      <td>509</td>\n",
       "      <td>real_gross</td>\n",
       "      <td>Biography</td>\n",
       "      <td>-0.023473</td>\n",
       "    </tr>\n",
       "    <tr>\n",
       "      <td>524</td>\n",
       "      <td>real_gross</td>\n",
       "      <td>Mystery</td>\n",
       "      <td>-0.027260</td>\n",
       "    </tr>\n",
       "    <tr>\n",
       "      <td>514</td>\n",
       "      <td>real_gross</td>\n",
       "      <td>Thriller</td>\n",
       "      <td>-0.034827</td>\n",
       "    </tr>\n",
       "    <tr>\n",
       "      <td>506</td>\n",
       "      <td>real_gross</td>\n",
       "      <td>Crime</td>\n",
       "      <td>-0.042850</td>\n",
       "    </tr>\n",
       "    <tr>\n",
       "      <td>517</td>\n",
       "      <td>real_gross</td>\n",
       "      <td>Horror</td>\n",
       "      <td>-0.046049</td>\n",
       "    </tr>\n",
       "    <tr>\n",
       "      <td>527</td>\n",
       "      <td>real_gross</td>\n",
       "      <td>Documentary</td>\n",
       "      <td>-0.047066</td>\n",
       "    </tr>\n",
       "    <tr>\n",
       "      <td>520</td>\n",
       "      <td>real_gross</td>\n",
       "      <td>Romance</td>\n",
       "      <td>-0.054846</td>\n",
       "    </tr>\n",
       "    <tr>\n",
       "      <td>518</td>\n",
       "      <td>real_gross</td>\n",
       "      <td>Drama</td>\n",
       "      <td>-0.135994</td>\n",
       "    </tr>\n",
       "  </tbody>\n",
       "</table>\n",
       "</div>"
      ],
      "text/plain": [
       "        level_0      level_1      corr\n",
       "508  real_gross    Adventure  0.247684\n",
       "512  real_gross    Animation  0.166425\n",
       "513  real_gross      Fantasy  0.144870\n",
       "522  real_gross       Action  0.127591\n",
       "511  real_gross       Sci-Fi  0.098950\n",
       "515  real_gross       Family  0.063933\n",
       "526  real_gross       Comedy  0.020055\n",
       "519  real_gross   Reality-TV -0.006471\n",
       "510  real_gross         News -0.008589\n",
       "523  real_gross      Western -0.012386\n",
       "521  real_gross        Music -0.013505\n",
       "507  real_gross          War -0.016429\n",
       "525  real_gross        Sport -0.019132\n",
       "516  real_gross      History -0.022226\n",
       "509  real_gross    Biography -0.023473\n",
       "524  real_gross      Mystery -0.027260\n",
       "514  real_gross     Thriller -0.034827\n",
       "506  real_gross        Crime -0.042850\n",
       "517  real_gross       Horror -0.046049\n",
       "527  real_gross  Documentary -0.047066\n",
       "520  real_gross      Romance -0.054846\n",
       "518  real_gross        Drama -0.135994"
      ]
     },
     "execution_count": 23,
     "metadata": {},
     "output_type": "execute_result"
    }
   ],
   "source": [
    "# Okay, now that we have a clean table, let's apply the same approach as last go around:\n",
    "col = 'real_gross'\n",
    "cols = ['Crime', 'War', 'Adventure', 'Biography', 'News', 'Sci-Fi', 'Animation',\n",
    "        'Fantasy', 'Thriller', 'Family', 'History', 'Horror', 'Drama', \n",
    "        'Reality-TV', 'Romance', 'Music', 'Action', 'Western', \n",
    "        'Mystery', 'Sport', 'Comedy', 'Documentary', col]\n",
    "dft = pop_chungus[cols]\n",
    "df_corr = dft.corr().unstack().reset_index(name='corr')\n",
    "df_gross_corr = df_corr.sort_values('corr', ascending=False)[(df_corr['level_0'] == col) & (df_corr['level_1'] != col)]\n",
    "df_gross_corr"
   ]
  },
  {
   "cell_type": "code",
   "execution_count": 33,
   "metadata": {},
   "outputs": [
    {
     "data": {
      "image/png": "[encoded data removed]",
      "text/plain": [
       "<Figure size 432x288 with 1 Axes>"
      ]
     },
     "metadata": {
      "needs_background": "light"
     },
     "output_type": "display_data"
    }
   ],
   "source": [
    "#Looks a little weaker than the nominal figures, let's check it out graphically:\n",
    "sns.barplot(x=\"corr\", y=\"level_1\", data=df_gross_corr)\n",
    "plt.title('Real Correlation of Total Revenue to Genres', fontsize=15)\n",
    "plt.xlabel(\"Real Correlation to Total Revenue\", fontsize=15)\n",
    "plt.ylabel(\"Genre\", fontsize=15);"
   ]
  },
  {
   "cell_type": "code",
   "execution_count": 25,
   "metadata": {},
   "outputs": [],
   "source": [
    "df_gross_corr['real_percentage_schedule'] =(((df_gross_corr['corr'] + 0.135993769626171)*100)/3.350269113).round(1)\n"
   ]
  },
  {
   "cell_type": "markdown",
   "metadata": {},
   "source": [
    "## Looks like the scale of lost revenue hasn't changed much but there's less positive correlation with revenue when figures are adjusted for inflation. Small differences in correlation that yield further discussion in the associate blog post. "
   ]
  },
  {
   "cell_type": "code",
   "execution_count": 26,
   "metadata": {},
   "outputs": [
    {
     "data": {
      "text/html": [
       "<div>\n",
       "<style scoped>\n",
       "    .dataframe tbody tr th:only-of-type {\n",
       "        vertical-align: middle;\n",
       "    }\n",
       "\n",
       "    .dataframe tbody tr th {\n",
       "        vertical-align: top;\n",
       "    }\n",
       "\n",
       "    .dataframe thead th {\n",
       "        text-align: right;\n",
       "    }\n",
       "</style>\n",
       "<table border=\"1\" class=\"dataframe\">\n",
       "  <thead>\n",
       "    <tr style=\"text-align: right;\">\n",
       "      <th></th>\n",
       "      <th>level_0</th>\n",
       "      <th>level_1</th>\n",
       "      <th>corr</th>\n",
       "    </tr>\n",
       "  </thead>\n",
       "  <tbody>\n",
       "    <tr>\n",
       "      <td>508</td>\n",
       "      <td>worldwide_gross</td>\n",
       "      <td>Adventure</td>\n",
       "      <td>0.385612</td>\n",
       "    </tr>\n",
       "    <tr>\n",
       "      <td>522</td>\n",
       "      <td>worldwide_gross</td>\n",
       "      <td>Action</td>\n",
       "      <td>0.217526</td>\n",
       "    </tr>\n",
       "    <tr>\n",
       "      <td>512</td>\n",
       "      <td>worldwide_gross</td>\n",
       "      <td>Animation</td>\n",
       "      <td>0.217247</td>\n",
       "    </tr>\n",
       "    <tr>\n",
       "      <td>511</td>\n",
       "      <td>worldwide_gross</td>\n",
       "      <td>Sci-Fi</td>\n",
       "      <td>0.167770</td>\n",
       "    </tr>\n",
       "    <tr>\n",
       "      <td>513</td>\n",
       "      <td>worldwide_gross</td>\n",
       "      <td>Fantasy</td>\n",
       "      <td>0.122174</td>\n",
       "    </tr>\n",
       "    <tr>\n",
       "      <td>515</td>\n",
       "      <td>worldwide_gross</td>\n",
       "      <td>Family</td>\n",
       "      <td>0.042218</td>\n",
       "    </tr>\n",
       "    <tr>\n",
       "      <td>526</td>\n",
       "      <td>worldwide_gross</td>\n",
       "      <td>Comedy</td>\n",
       "      <td>0.032673</td>\n",
       "    </tr>\n",
       "    <tr>\n",
       "      <td>519</td>\n",
       "      <td>worldwide_gross</td>\n",
       "      <td>Reality-TV</td>\n",
       "      <td>-0.007777</td>\n",
       "    </tr>\n",
       "    <tr>\n",
       "      <td>510</td>\n",
       "      <td>worldwide_gross</td>\n",
       "      <td>News</td>\n",
       "      <td>-0.010602</td>\n",
       "    </tr>\n",
       "    <tr>\n",
       "      <td>523</td>\n",
       "      <td>worldwide_gross</td>\n",
       "      <td>Western</td>\n",
       "      <td>-0.014542</td>\n",
       "    </tr>\n",
       "    <tr>\n",
       "      <td>525</td>\n",
       "      <td>worldwide_gross</td>\n",
       "      <td>Sport</td>\n",
       "      <td>-0.016037</td>\n",
       "    </tr>\n",
       "    <tr>\n",
       "      <td>516</td>\n",
       "      <td>worldwide_gross</td>\n",
       "      <td>History</td>\n",
       "      <td>-0.018493</td>\n",
       "    </tr>\n",
       "    <tr>\n",
       "      <td>514</td>\n",
       "      <td>worldwide_gross</td>\n",
       "      <td>Thriller</td>\n",
       "      <td>-0.021964</td>\n",
       "    </tr>\n",
       "    <tr>\n",
       "      <td>524</td>\n",
       "      <td>worldwide_gross</td>\n",
       "      <td>Mystery</td>\n",
       "      <td>-0.022053</td>\n",
       "    </tr>\n",
       "    <tr>\n",
       "      <td>521</td>\n",
       "      <td>worldwide_gross</td>\n",
       "      <td>Music</td>\n",
       "      <td>-0.025790</td>\n",
       "    </tr>\n",
       "    <tr>\n",
       "      <td>507</td>\n",
       "      <td>worldwide_gross</td>\n",
       "      <td>War</td>\n",
       "      <td>-0.026678</td>\n",
       "    </tr>\n",
       "    <tr>\n",
       "      <td>509</td>\n",
       "      <td>worldwide_gross</td>\n",
       "      <td>Biography</td>\n",
       "      <td>-0.031900</td>\n",
       "    </tr>\n",
       "    <tr>\n",
       "      <td>506</td>\n",
       "      <td>worldwide_gross</td>\n",
       "      <td>Crime</td>\n",
       "      <td>-0.035247</td>\n",
       "    </tr>\n",
       "    <tr>\n",
       "      <td>517</td>\n",
       "      <td>worldwide_gross</td>\n",
       "      <td>Horror</td>\n",
       "      <td>-0.046438</td>\n",
       "    </tr>\n",
       "    <tr>\n",
       "      <td>520</td>\n",
       "      <td>worldwide_gross</td>\n",
       "      <td>Romance</td>\n",
       "      <td>-0.059803</td>\n",
       "    </tr>\n",
       "    <tr>\n",
       "      <td>527</td>\n",
       "      <td>worldwide_gross</td>\n",
       "      <td>Documentary</td>\n",
       "      <td>-0.073200</td>\n",
       "    </tr>\n",
       "    <tr>\n",
       "      <td>518</td>\n",
       "      <td>worldwide_gross</td>\n",
       "      <td>Drama</td>\n",
       "      <td>-0.164352</td>\n",
       "    </tr>\n",
       "  </tbody>\n",
       "</table>\n",
       "</div>"
      ],
      "text/plain": [
       "             level_0      level_1      corr\n",
       "508  worldwide_gross    Adventure  0.385612\n",
       "522  worldwide_gross       Action  0.217526\n",
       "512  worldwide_gross    Animation  0.217247\n",
       "511  worldwide_gross       Sci-Fi  0.167770\n",
       "513  worldwide_gross      Fantasy  0.122174\n",
       "515  worldwide_gross       Family  0.042218\n",
       "526  worldwide_gross       Comedy  0.032673\n",
       "519  worldwide_gross   Reality-TV -0.007777\n",
       "510  worldwide_gross         News -0.010602\n",
       "523  worldwide_gross      Western -0.014542\n",
       "525  worldwide_gross        Sport -0.016037\n",
       "516  worldwide_gross      History -0.018493\n",
       "514  worldwide_gross     Thriller -0.021964\n",
       "524  worldwide_gross      Mystery -0.022053\n",
       "521  worldwide_gross        Music -0.025790\n",
       "507  worldwide_gross          War -0.026678\n",
       "509  worldwide_gross    Biography -0.031900\n",
       "506  worldwide_gross        Crime -0.035247\n",
       "517  worldwide_gross       Horror -0.046438\n",
       "520  worldwide_gross      Romance -0.059803\n",
       "527  worldwide_gross  Documentary -0.073200\n",
       "518  worldwide_gross        Drama -0.164352"
      ]
     },
     "execution_count": 26,
     "metadata": {},
     "output_type": "execute_result"
    }
   ],
   "source": [
    "#Let's rebuild our previous table and merge them so we can compare:\n",
    "og_col = 'worldwide_gross'\n",
    "og_cols = ['Crime', 'War', 'Adventure', 'Biography', 'News', 'Sci-Fi', 'Animation',\n",
    "        'Fantasy', 'Thriller', 'Family', 'History', 'Horror', 'Drama', \n",
    "        'Reality-TV', 'Romance', 'Music', 'Action', 'Western', \n",
    "        'Mystery', 'Sport', 'Comedy', 'Documentary', og_col]\n",
    "og_dft = pop_chungus[og_cols]\n",
    "og_df_corr = og_dft.corr().unstack().reset_index(name='corr')\n",
    "og_df_gross_corr = og_df_corr.sort_values('corr', ascending=False)[(og_df_corr['level_0'] == og_col) & (og_df_corr['level_1'] != og_col)]\n",
    "og_df_gross_corr"
   ]
  },
  {
   "cell_type": "code",
   "execution_count": 27,
   "metadata": {},
   "outputs": [],
   "source": [
    "og_df_gross_corr['nominal_percentage_schedule'] =(((df_gross_corr['corr'] + 0.164351962)*100)/4.23).round(1)"
   ]
  },
  {
   "cell_type": "code",
   "execution_count": 28,
   "metadata": {},
   "outputs": [],
   "source": [
    "combo_corr = df_gross_corr.merge(og_df_gross_corr, on= 'level_1')\n",
    "combo_corr['delta'] = combo_corr['corr_x'] - combo_corr['corr_y']\n",
    "combo_corr = combo_corr.sort_values('delta', ascending=False)\n",
    "\n",
    "\n"
   ]
  },
  {
   "cell_type": "code",
   "execution_count": 29,
   "metadata": {},
   "outputs": [
    {
     "data": {
      "text/html": [
       "<div>\n",
       "<style scoped>\n",
       "    .dataframe tbody tr th:only-of-type {\n",
       "        vertical-align: middle;\n",
       "    }\n",
       "\n",
       "    .dataframe tbody tr th {\n",
       "        vertical-align: top;\n",
       "    }\n",
       "\n",
       "    .dataframe thead th {\n",
       "        text-align: right;\n",
       "    }\n",
       "</style>\n",
       "<table border=\"1\" class=\"dataframe\">\n",
       "  <thead>\n",
       "    <tr style=\"text-align: right;\">\n",
       "      <th></th>\n",
       "      <th>level_0_x</th>\n",
       "      <th>level_1</th>\n",
       "      <th>corr_x</th>\n",
       "      <th>real_percentage_schedule</th>\n",
       "      <th>level_0_y</th>\n",
       "      <th>corr_y</th>\n",
       "      <th>nominal_percentage_schedule</th>\n",
       "      <th>delta</th>\n",
       "    </tr>\n",
       "  </thead>\n",
       "  <tbody>\n",
       "    <tr>\n",
       "      <td>21</td>\n",
       "      <td>real_gross</td>\n",
       "      <td>Drama</td>\n",
       "      <td>-0.135994</td>\n",
       "      <td>-0.0</td>\n",
       "      <td>worldwide_gross</td>\n",
       "      <td>-0.164352</td>\n",
       "      <td>0.7</td>\n",
       "      <td>0.028358</td>\n",
       "    </tr>\n",
       "    <tr>\n",
       "      <td>19</td>\n",
       "      <td>real_gross</td>\n",
       "      <td>Documentary</td>\n",
       "      <td>-0.047066</td>\n",
       "      <td>2.7</td>\n",
       "      <td>worldwide_gross</td>\n",
       "      <td>-0.073200</td>\n",
       "      <td>2.8</td>\n",
       "      <td>0.026134</td>\n",
       "    </tr>\n",
       "    <tr>\n",
       "      <td>2</td>\n",
       "      <td>real_gross</td>\n",
       "      <td>Fantasy</td>\n",
       "      <td>0.144870</td>\n",
       "      <td>8.4</td>\n",
       "      <td>worldwide_gross</td>\n",
       "      <td>0.122174</td>\n",
       "      <td>7.3</td>\n",
       "      <td>0.022696</td>\n",
       "    </tr>\n",
       "    <tr>\n",
       "      <td>5</td>\n",
       "      <td>real_gross</td>\n",
       "      <td>Family</td>\n",
       "      <td>0.063933</td>\n",
       "      <td>6.0</td>\n",
       "      <td>worldwide_gross</td>\n",
       "      <td>0.042218</td>\n",
       "      <td>5.4</td>\n",
       "      <td>0.021715</td>\n",
       "    </tr>\n",
       "    <tr>\n",
       "      <td>10</td>\n",
       "      <td>real_gross</td>\n",
       "      <td>Music</td>\n",
       "      <td>-0.013505</td>\n",
       "      <td>3.7</td>\n",
       "      <td>worldwide_gross</td>\n",
       "      <td>-0.025790</td>\n",
       "      <td>3.6</td>\n",
       "      <td>0.012285</td>\n",
       "    </tr>\n",
       "  </tbody>\n",
       "</table>\n",
       "</div>"
      ],
      "text/plain": [
       "     level_0_x      level_1    corr_x  real_percentage_schedule  \\\n",
       "21  real_gross        Drama -0.135994                      -0.0   \n",
       "19  real_gross  Documentary -0.047066                       2.7   \n",
       "2   real_gross      Fantasy  0.144870                       8.4   \n",
       "5   real_gross       Family  0.063933                       6.0   \n",
       "10  real_gross        Music -0.013505                       3.7   \n",
       "\n",
       "          level_0_y    corr_y  nominal_percentage_schedule     delta  \n",
       "21  worldwide_gross -0.164352                          0.7  0.028358  \n",
       "19  worldwide_gross -0.073200                          2.8  0.026134  \n",
       "2   worldwide_gross  0.122174                          7.3  0.022696  \n",
       "5   worldwide_gross  0.042218                          5.4  0.021715  \n",
       "10  worldwide_gross -0.025790                          3.6  0.012285  "
      ]
     },
     "execution_count": 29,
     "metadata": {},
     "output_type": "execute_result"
    }
   ],
   "source": [
    "combo_corr.head()"
   ]
  },
  {
   "cell_type": "code",
   "execution_count": 30,
   "metadata": {},
   "outputs": [
    {
     "data": {
      "image/png": "[encoded data removed]",
      "text/plain": [
       "<Figure size 432x288 with 1 Axes>"
      ]
     },
     "metadata": {
      "needs_background": "light"
     },
     "output_type": "display_data"
    }
   ],
   "source": [
    "sns.barplot(x=\"delta\", y=\"level_1\", data=combo_corr)\n",
    "plt.title('Variation in Percent Schedule', fontsize=15)\n",
    "plt.xlabel(\"% Change from Schedule\", fontsize=15)\n",
    "plt.ylabel(\"Genre\", fontsize=15);"
   ]
  },
  {
   "cell_type": "code",
   "execution_count": 31,
   "metadata": {},
   "outputs": [
    {
     "data": {
      "image/png": "[encoded data removed]",
      "text/plain": [
       "<Figure size 432x288 with 1 Axes>"
      ]
     },
     "metadata": {
      "needs_background": "light"
     },
     "output_type": "display_data"
    }
   ],
   "source": [
    "top_delta = ['Animation', 'Adventure', 'Action', 'Sci-Fi', ]\n",
    "graphable = combo_corr[combo_corr.level_1.isin(top_delta)]\n",
    "sns.barplot(x=\"level_1\", y=\"delta\", data=graphable)\n",
    "plt.title('Correlation Delta from Inflation Adjustment', fontsize=15)\n",
    "plt.xlabel(\"Genre\", fontsize=15)\n",
    "plt.ylabel(\"Deviance from Nominal Percentage Schedule\", fontsize=15);"
   ]
  },
  {
   "cell_type": "code",
   "execution_count": 35,
   "metadata": {},
   "outputs": [
    {
     "data": {
      "text/html": [
       "<div>\n",
       "<style scoped>\n",
       "    .dataframe tbody tr th:only-of-type {\n",
       "        vertical-align: middle;\n",
       "    }\n",
       "\n",
       "    .dataframe tbody tr th {\n",
       "        vertical-align: top;\n",
       "    }\n",
       "\n",
       "    .dataframe thead th {\n",
       "        text-align: right;\n",
       "    }\n",
       "</style>\n",
       "<table border=\"1\" class=\"dataframe\">\n",
       "  <thead>\n",
       "    <tr style=\"text-align: right;\">\n",
       "      <th></th>\n",
       "      <th>level_0_x</th>\n",
       "      <th>level_1</th>\n",
       "      <th>corr_x</th>\n",
       "      <th>real_percentage_schedule</th>\n",
       "      <th>level_0_y</th>\n",
       "      <th>corr_y</th>\n",
       "      <th>nominal_percentage_schedule</th>\n",
       "      <th>delta</th>\n",
       "    </tr>\n",
       "  </thead>\n",
       "  <tbody>\n",
       "    <tr>\n",
       "      <td>1</td>\n",
       "      <td>real_gross</td>\n",
       "      <td>Animation</td>\n",
       "      <td>0.166425</td>\n",
       "      <td>9.0</td>\n",
       "      <td>worldwide_gross</td>\n",
       "      <td>0.217247</td>\n",
       "      <td>7.8</td>\n",
       "      <td>-0.050822</td>\n",
       "    </tr>\n",
       "    <tr>\n",
       "      <td>4</td>\n",
       "      <td>real_gross</td>\n",
       "      <td>Sci-Fi</td>\n",
       "      <td>0.098950</td>\n",
       "      <td>7.0</td>\n",
       "      <td>worldwide_gross</td>\n",
       "      <td>0.167770</td>\n",
       "      <td>6.2</td>\n",
       "      <td>-0.068819</td>\n",
       "    </tr>\n",
       "    <tr>\n",
       "      <td>3</td>\n",
       "      <td>real_gross</td>\n",
       "      <td>Action</td>\n",
       "      <td>0.127591</td>\n",
       "      <td>7.9</td>\n",
       "      <td>worldwide_gross</td>\n",
       "      <td>0.217526</td>\n",
       "      <td>6.9</td>\n",
       "      <td>-0.089935</td>\n",
       "    </tr>\n",
       "    <tr>\n",
       "      <td>0</td>\n",
       "      <td>real_gross</td>\n",
       "      <td>Adventure</td>\n",
       "      <td>0.247684</td>\n",
       "      <td>11.5</td>\n",
       "      <td>worldwide_gross</td>\n",
       "      <td>0.385612</td>\n",
       "      <td>9.7</td>\n",
       "      <td>-0.137928</td>\n",
       "    </tr>\n",
       "  </tbody>\n",
       "</table>\n",
       "</div>"
      ],
      "text/plain": [
       "    level_0_x    level_1    corr_x  real_percentage_schedule        level_0_y  \\\n",
       "1  real_gross  Animation  0.166425                       9.0  worldwide_gross   \n",
       "4  real_gross     Sci-Fi  0.098950                       7.0  worldwide_gross   \n",
       "3  real_gross     Action  0.127591                       7.9  worldwide_gross   \n",
       "0  real_gross  Adventure  0.247684                      11.5  worldwide_gross   \n",
       "\n",
       "     corr_y  nominal_percentage_schedule     delta  \n",
       "1  0.217247                          7.8 -0.050822  \n",
       "4  0.167770                          6.2 -0.068819  \n",
       "3  0.217526                          6.9 -0.089935  \n",
       "0  0.385612                          9.7 -0.137928  "
      ]
     },
     "execution_count": 35,
     "metadata": {},
     "output_type": "execute_result"
    }
   ],
   "source": [
    "graphable.head()"
   ]
  },
  {
   "cell_type": "code",
   "execution_count": 36,
   "metadata": {},
   "outputs": [],
   "source": [
    "graphable = graphable[\n",
    "     ['level_1','level_0_x', 'real_percentage_schedule',\n",
    "     'nominal_percentage_schedule', 'level_0_y','delta']]\n",
    "graphable['genre'] = graphable['level_1']"
   ]
  },
  {
   "cell_type": "code",
   "execution_count": 45,
   "metadata": {},
   "outputs": [
    {
     "data": {
      "text/html": [
       "<div>\n",
       "<style scoped>\n",
       "    .dataframe tbody tr th:only-of-type {\n",
       "        vertical-align: middle;\n",
       "    }\n",
       "\n",
       "    .dataframe tbody tr th {\n",
       "        vertical-align: top;\n",
       "    }\n",
       "\n",
       "    .dataframe thead th {\n",
       "        text-align: right;\n",
       "    }\n",
       "</style>\n",
       "<table border=\"1\" class=\"dataframe\">\n",
       "  <thead>\n",
       "    <tr style=\"text-align: right;\">\n",
       "      <th></th>\n",
       "      <th>genre</th>\n",
       "      <th>variable</th>\n",
       "      <th>value</th>\n",
       "    </tr>\n",
       "  </thead>\n",
       "  <tbody>\n",
       "    <tr>\n",
       "      <td>0</td>\n",
       "      <td>Animation</td>\n",
       "      <td>Nominal</td>\n",
       "      <td>7.8</td>\n",
       "    </tr>\n",
       "    <tr>\n",
       "      <td>1</td>\n",
       "      <td>Sci-Fi</td>\n",
       "      <td>Nominal</td>\n",
       "      <td>6.2</td>\n",
       "    </tr>\n",
       "    <tr>\n",
       "      <td>2</td>\n",
       "      <td>Action</td>\n",
       "      <td>Nominal</td>\n",
       "      <td>6.9</td>\n",
       "    </tr>\n",
       "    <tr>\n",
       "      <td>3</td>\n",
       "      <td>Adventure</td>\n",
       "      <td>Nominal</td>\n",
       "      <td>9.7</td>\n",
       "    </tr>\n",
       "    <tr>\n",
       "      <td>4</td>\n",
       "      <td>Animation</td>\n",
       "      <td>Inflation Adjusted</td>\n",
       "      <td>9.0</td>\n",
       "    </tr>\n",
       "    <tr>\n",
       "      <td>5</td>\n",
       "      <td>Sci-Fi</td>\n",
       "      <td>Inflation Adjusted</td>\n",
       "      <td>7.0</td>\n",
       "    </tr>\n",
       "    <tr>\n",
       "      <td>6</td>\n",
       "      <td>Action</td>\n",
       "      <td>Inflation Adjusted</td>\n",
       "      <td>7.9</td>\n",
       "    </tr>\n",
       "    <tr>\n",
       "      <td>7</td>\n",
       "      <td>Adventure</td>\n",
       "      <td>Inflation Adjusted</td>\n",
       "      <td>11.5</td>\n",
       "    </tr>\n",
       "  </tbody>\n",
       "</table>\n",
       "</div>"
      ],
      "text/plain": [
       "       genre            variable  value\n",
       "0  Animation             Nominal    7.8\n",
       "1     Sci-Fi             Nominal    6.2\n",
       "2     Action             Nominal    6.9\n",
       "3  Adventure             Nominal    9.7\n",
       "4  Animation  Inflation Adjusted    9.0\n",
       "5     Sci-Fi  Inflation Adjusted    7.0\n",
       "6     Action  Inflation Adjusted    7.9\n",
       "7  Adventure  Inflation Adjusted   11.5"
      ]
     },
     "execution_count": 45,
     "metadata": {},
     "output_type": "execute_result"
    }
   ],
   "source": [
    "test =  graphable.melt(id_vars = ['genre'], value_vars =['nominal_percentage_schedule','real_percentage_schedule'])\n",
    "test['variable'] = test['variable'].replace('nominal_percentage_schedule', 'Nominal')\n",
    "test['variable'] = test['variable'].replace('real_percentage_schedule', 'Inflation Adjusted')\n",
    "test"
   ]
  },
  {
   "cell_type": "code",
   "execution_count": 46,
   "metadata": {},
   "outputs": [
    {
     "data": {
      "image/png": "[encoded data removed]",
      "text/plain": [
       "<Figure size 432x288 with 1 Axes>"
      ]
     },
     "metadata": {},
     "output_type": "display_data"
    }
   ],
   "source": [
    "sns.set(style=\"whitegrid\", palette=\"bright\", color_codes=True)\n",
    "g = sns.barplot(x=\"genre\", y=\"value\", hue=\"variable\",\n",
    "               palette={\"Nominal\": \"r\", \"Inflation Adjusted\": \"c\"},\n",
    "               data= test)\n",
    "ax=g\n",
    "for p in ax.patches:\n",
    "             ax.annotate(\"%.2f\" % p.get_height(), (p.get_x() + p.get_width() / 2., p.get_height()),\n",
    "                 ha='center', va='center', fontsize=11, color='gray', xytext=(0, 20),\n",
    "                 textcoords='offset points')\n",
    "plt.legend(bbox_to_anchor=(1.05, 1), loc=2, borderaxespad=0.)\n",
    "_ = g.set_ylim(0,15);"
   ]
  },
  {
   "cell_type": "code",
   "execution_count": null,
   "metadata": {},
   "outputs": [],
   "source": []
  }
 ],
 "metadata": {
  "kernelspec": {
   "display_name": "Python 3",
   "language": "python",
   "name": "python3"
  },
  "language_info": {
   "codemirror_mode": {
    "name": "ipython",
    "version": 3
   },
   "file_extension": ".py",
   "mimetype": "text/x-python",
   "name": "python",
   "nbconvert_exporter": "python",
   "pygments_lexer": "ipython3",
   "version": "3.6.9"
  }
 },
 "nbformat": 4,
 "nbformat_minor": 4
}
