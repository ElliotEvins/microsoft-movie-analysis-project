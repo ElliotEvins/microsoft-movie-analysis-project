{
 "cells": [
  {
   "cell_type": "markdown",
   "metadata": {},
   "source": [
    "# Important People"
   ]
  },
  {
   "cell_type": "code",
   "execution_count": 1,
   "metadata": {
    "ExecuteTime": {
     "end_time": "2020-06-20T15:36:19.071527Z",
     "start_time": "2020-06-20T15:36:18.048180Z"
    }
   },
   "outputs": [],
   "source": [
    "import pandas as pd\n",
    "import numpy as np\n",
    "from matplotlib import pyplot as plt\n",
    "%matplotlib inline\n",
    "import seaborn as sns\n",
    "import warnings \n",
    "warnings.filterwarnings('ignore')"
   ]
  },
  {
   "cell_type": "code",
   "execution_count": 2,
   "metadata": {
    "ExecuteTime": {
     "end_time": "2020-06-20T15:36:19.751645Z",
     "start_time": "2020-06-20T15:36:19.072421Z"
    }
   },
   "outputs": [],
   "source": [
    "path_chungus = 'C:/Users/Jack/flatiron/module-01/mod-1-project/data/unzipped_data/chungus_with_tmdb.csv'\n",
    "df = pd.read_csv(path_chungus, index_col=0)"
   ]
  },
  {
   "cell_type": "code",
   "execution_count": 3,
   "metadata": {
    "ExecuteTime": {
     "end_time": "2020-06-20T15:36:19.769579Z",
     "start_time": "2020-06-20T15:36:19.752628Z"
    }
   },
   "outputs": [],
   "source": [
    "#Create new variable based on the ROI of a movie:\n",
    "df['net_roi'] = (df['worldwide_gross'] - df['production_budget']) / df['production_budget']"
   ]
  },
  {
   "cell_type": "markdown",
   "metadata": {},
   "source": [
    "## Directors"
   ]
  },
  {
   "cell_type": "code",
   "execution_count": 4,
   "metadata": {
    "ExecuteTime": {
     "end_time": "2020-06-20T15:36:19.864304Z",
     "start_time": "2020-06-20T15:36:19.770558Z"
    }
   },
   "outputs": [
    {
     "data": {
      "text/plain": [
       "count    94754.000000\n",
       "mean         1.484803\n",
       "std          1.328484\n",
       "min          1.000000\n",
       "25%          1.000000\n",
       "50%          1.000000\n",
       "75%          2.000000\n",
       "max         62.000000\n",
       "Name: director_1, dtype: float64"
      ]
     },
     "execution_count": 4,
     "metadata": {},
     "output_type": "execute_result"
    }
   ],
   "source": [
    "# look at the shape of directors\n",
    "df['director_1'].value_counts().describe()"
   ]
  },
  {
   "cell_type": "markdown",
   "metadata": {},
   "source": [
    "### Directors and Gross"
   ]
  },
  {
   "cell_type": "code",
   "execution_count": 5,
   "metadata": {
    "ExecuteTime": {
     "end_time": "2020-06-20T15:36:19.918161Z",
     "start_time": "2020-06-20T15:36:19.865302Z"
    }
   },
   "outputs": [
    {
     "data": {
      "text/plain": [
       "3950"
      ]
     },
     "execution_count": 5,
     "metadata": {},
     "output_type": "execute_result"
    }
   ],
   "source": [
    "# drop gross NaN's\n",
    "df_valid_gross = df.dropna(subset=['worldwide_gross'])\n",
    "# check resulting length\n",
    "len(df_valid_gross)"
   ]
  },
  {
   "cell_type": "code",
   "execution_count": 6,
   "metadata": {
    "ExecuteTime": {
     "end_time": "2020-06-20T15:36:19.936114Z",
     "start_time": "2020-06-20T15:36:19.919158Z"
    }
   },
   "outputs": [
    {
     "data": {
      "text/plain": [
       "nm0000229    8\n",
       "nm0000142    8\n",
       "nm0337773    7\n",
       "nm0000631    6\n",
       "nm0000916    6\n",
       "            ..\n",
       "nm1226871    2\n",
       "nm8286012    2\n",
       "nm1047180    2\n",
       "nm0970447    2\n",
       "nm0649117    2\n",
       "Name: director_1, Length: 508, dtype: int64"
      ]
     },
     "execution_count": 6,
     "metadata": {},
     "output_type": "execute_result"
    }
   ],
   "source": [
    "# get rid of directors without multiple films\n",
    "df_directors = df_valid_gross[df_valid_gross.duplicated('director_1') \n",
    "                             | df_valid_gross.duplicated('director_1', keep='last')]\n",
    "# verify that all single-film directors are removed\n",
    "df_directors['director_1'].value_counts()"
   ]
  },
  {
   "cell_type": "code",
   "execution_count": 7,
   "metadata": {
    "ExecuteTime": {
     "end_time": "2020-06-20T15:36:19.947084Z",
     "start_time": "2020-06-20T15:36:19.937112Z"
    }
   },
   "outputs": [
    {
     "data": {
      "text/plain": [
       "count    508.000000\n",
       "mean       2.580709\n",
       "std        0.978760\n",
       "min        2.000000\n",
       "25%        2.000000\n",
       "50%        2.000000\n",
       "75%        3.000000\n",
       "max        8.000000\n",
       "Name: director_1, dtype: float64"
      ]
     },
     "execution_count": 7,
     "metadata": {},
     "output_type": "execute_result"
    }
   ],
   "source": [
    "# take a look at how many films a median director does\n",
    "df_directors['director_1'].value_counts().describe()"
   ]
  },
  {
   "cell_type": "code",
   "execution_count": 8,
   "metadata": {
    "ExecuteTime": {
     "end_time": "2020-06-20T15:36:19.973016Z",
     "start_time": "2020-06-20T15:36:19.949078Z"
    }
   },
   "outputs": [
    {
     "data": {
      "text/html": [
       "<div>\n",
       "<style scoped>\n",
       "    .dataframe tbody tr th:only-of-type {\n",
       "        vertical-align: middle;\n",
       "    }\n",
       "\n",
       "    .dataframe tbody tr th {\n",
       "        vertical-align: top;\n",
       "    }\n",
       "\n",
       "    .dataframe thead th {\n",
       "        text-align: right;\n",
       "    }\n",
       "</style>\n",
       "<table border=\"1\" class=\"dataframe\">\n",
       "  <thead>\n",
       "    <tr style=\"text-align: right;\">\n",
       "      <th></th>\n",
       "      <th>director_1</th>\n",
       "      <th>worldwide_gross</th>\n",
       "    </tr>\n",
       "  </thead>\n",
       "  <tbody>\n",
       "    <tr>\n",
       "      <td>0</td>\n",
       "      <td>Joe Russo</td>\n",
       "      <td>1.140069e+09</td>\n",
       "    </tr>\n",
       "    <tr>\n",
       "      <td>1</td>\n",
       "      <td>Sam Mendes</td>\n",
       "      <td>9.950740e+08</td>\n",
       "    </tr>\n",
       "    <tr>\n",
       "      <td>2</td>\n",
       "      <td>Pierre Coffin</td>\n",
       "      <td>9.752168e+08</td>\n",
       "    </tr>\n",
       "    <tr>\n",
       "      <td>3</td>\n",
       "      <td>Typical</td>\n",
       "      <td>2.443883e+07</td>\n",
       "    </tr>\n",
       "  </tbody>\n",
       "</table>\n",
       "</div>"
      ],
      "text/plain": [
       "      director_1  worldwide_gross\n",
       "0      Joe Russo     1.140069e+09\n",
       "1     Sam Mendes     9.950740e+08\n",
       "2  Pierre Coffin     9.752168e+08\n",
       "3        Typical     2.443883e+07"
      ]
     },
     "metadata": {},
     "output_type": "display_data"
    }
   ],
   "source": [
    "\n",
    "# group directors and get median worldwide_gross\n",
    "dft = df_directors[['director_1', 'worldwide_gross']].groupby(['director_1']).median().sort_values('worldwide_gross', ascending=False)\n",
    "\n",
    "# dft[(dft['worldwide_gross'] < 1) & (dft['worldwide_gross'] > -1)].sort_values('worldwide_gross', ascending=False)['worldwide_gross'].to_list()\n",
    "\n",
    "# flatten dft\n",
    "dft = dft.reset_index()\n",
    "\n",
    "# exclude anomolous 'home' movie\n",
    "# dft = dft[(dft['worldwide_gross'] < 88)]\n",
    "\n",
    "# isolate the top 3 directors\n",
    "dft = dft[0:3]\n",
    "\n",
    "# add the typical director based on median\n",
    "observation_typical_director = {'director_1': 'Typical', \n",
    "                                'worldwide_gross': df['worldwide_gross'].median()}\n",
    "\n",
    "#append row to the dataframe\n",
    "dft = dft.append(observation_typical_director, ignore_index=True)\n",
    "\n",
    "# map id's to names pulled from web\n",
    "id_to_name = {'nm0751577': 'Joe Russo', 'nm0005222': 'Sam Mendes', 'nm1853544': 'Pierre Coffin'}\n",
    "dft = dft.replace({'director_1': id_to_name})\n",
    "\n",
    "\n",
    "# verify it makes sense\n",
    "display(dft)"
   ]
  },
  {
   "cell_type": "code",
   "execution_count": 9,
   "metadata": {
    "ExecuteTime": {
     "end_time": "2020-06-20T15:36:20.111644Z",
     "start_time": "2020-06-20T15:36:19.974012Z"
    }
   },
   "outputs": [
    {
     "data": {
      "text/plain": [
       "Text(0, 0.5, 'World Gross (billions, USD)')"
      ]
     },
     "execution_count": 9,
     "metadata": {},
     "output_type": "execute_result"
    },
    {
     "data": {
      "image/png": "[encoded data removed]",
      "text/plain": [
       "<Figure size 432x288 with 1 Axes>"
      ]
     },
     "metadata": {
      "needs_background": "light"
     },
     "output_type": "display_data"
    }
   ],
   "source": [
    "sns.barplot(x='director_1', y='worldwide_gross', data=dft.head())\n",
    "plt.title('3 Top Directors Compared to Typical Directors (Gross)', fontsize=14)\n",
    "plt.xlabel(\"Directors\", fontsize=14)\n",
    "plt.ylabel(\"World Gross (billions, USD)\", fontsize=14)"
   ]
  },
  {
   "cell_type": "code",
   "execution_count": 10,
   "metadata": {
    "ExecuteTime": {
     "end_time": "2020-06-20T15:36:20.115634Z",
     "start_time": "2020-06-20T15:36:20.112643Z"
    }
   },
   "outputs": [],
   "source": [
    "# Sanity check\n",
    "# col = 'director_1'\n",
    "# for person in dft[col]:\n",
    "#     display(df[df[col] == person])"
   ]
  },
  {
   "cell_type": "markdown",
   "metadata": {},
   "source": [
    "### Directors and ROI"
   ]
  },
  {
   "cell_type": "code",
   "execution_count": 11,
   "metadata": {
    "ExecuteTime": {
     "end_time": "2020-06-20T15:36:20.137526Z",
     "start_time": "2020-06-20T15:36:20.116633Z"
    }
   },
   "outputs": [
    {
     "data": {
      "text/plain": [
       "3950"
      ]
     },
     "execution_count": 11,
     "metadata": {},
     "output_type": "execute_result"
    }
   ],
   "source": [
    "# drop net_roi NaN's\n",
    "df_valid_rois = df.dropna(subset=['net_roi'])\n",
    "# check resulting length\n",
    "len(df_valid_rois)"
   ]
  },
  {
   "cell_type": "code",
   "execution_count": 12,
   "metadata": {
    "ExecuteTime": {
     "end_time": "2020-06-20T15:36:20.152485Z",
     "start_time": "2020-06-20T15:36:20.138524Z"
    }
   },
   "outputs": [
    {
     "data": {
      "text/plain": [
       "nm0000229    8\n",
       "nm0000142    8\n",
       "nm0337773    7\n",
       "nm0000631    6\n",
       "nm0000916    6\n",
       "            ..\n",
       "nm1226871    2\n",
       "nm8286012    2\n",
       "nm1047180    2\n",
       "nm0970447    2\n",
       "nm0649117    2\n",
       "Name: director_1, Length: 508, dtype: int64"
      ]
     },
     "execution_count": 12,
     "metadata": {},
     "output_type": "execute_result"
    }
   ],
   "source": [
    "# get rid of directors without multiple films\n",
    "df_directors = df_valid_rois[df_valid_rois.duplicated('director_1') \n",
    "                             | df_valid_rois.duplicated('director_1', keep='last')]\n",
    "# verify that all single-film directors are removed\n",
    "df_directors['director_1'].value_counts()"
   ]
  },
  {
   "cell_type": "code",
   "execution_count": 13,
   "metadata": {
    "ExecuteTime": {
     "end_time": "2020-06-20T15:36:20.164453Z",
     "start_time": "2020-06-20T15:36:20.154481Z"
    }
   },
   "outputs": [
    {
     "data": {
      "text/plain": [
       "count    508.000000\n",
       "mean       2.580709\n",
       "std        0.978760\n",
       "min        2.000000\n",
       "25%        2.000000\n",
       "50%        2.000000\n",
       "75%        3.000000\n",
       "max        8.000000\n",
       "Name: director_1, dtype: float64"
      ]
     },
     "execution_count": 13,
     "metadata": {},
     "output_type": "execute_result"
    }
   ],
   "source": [
    "# take a look at how many films a median director does\n",
    "df_directors['director_1'].value_counts().describe()"
   ]
  },
  {
   "cell_type": "markdown",
   "metadata": {},
   "source": [
    "Looks like 2 movies is a typical number of movies"
   ]
  },
  {
   "cell_type": "code",
   "execution_count": 14,
   "metadata": {
    "ExecuteTime": {
     "end_time": "2020-06-20T15:36:20.186397Z",
     "start_time": "2020-06-20T15:36:20.165453Z"
    },
    "scrolled": true
   },
   "outputs": [
    {
     "data": {
      "text/html": [
       "<div>\n",
       "<style scoped>\n",
       "    .dataframe tbody tr th:only-of-type {\n",
       "        vertical-align: middle;\n",
       "    }\n",
       "\n",
       "    .dataframe tbody tr th {\n",
       "        vertical-align: top;\n",
       "    }\n",
       "\n",
       "    .dataframe thead th {\n",
       "        text-align: right;\n",
       "    }\n",
       "</style>\n",
       "<table border=\"1\" class=\"dataframe\">\n",
       "  <thead>\n",
       "    <tr style=\"text-align: right;\">\n",
       "      <th></th>\n",
       "      <th>director_1</th>\n",
       "      <th>net_roi</th>\n",
       "    </tr>\n",
       "  </thead>\n",
       "  <tbody>\n",
       "    <tr>\n",
       "      <td>0</td>\n",
       "      <td>William Brent Bell</td>\n",
       "      <td>53.290793</td>\n",
       "    </tr>\n",
       "    <tr>\n",
       "      <td>1</td>\n",
       "      <td>Kay Cannon</td>\n",
       "      <td>46.685970</td>\n",
       "    </tr>\n",
       "    <tr>\n",
       "      <td>2</td>\n",
       "      <td>Jordan Peele</td>\n",
       "      <td>30.892053</td>\n",
       "    </tr>\n",
       "    <tr>\n",
       "      <td>3</td>\n",
       "      <td>Typical</td>\n",
       "      <td>0.486775</td>\n",
       "    </tr>\n",
       "  </tbody>\n",
       "</table>\n",
       "</div>"
      ],
      "text/plain": [
       "           director_1    net_roi\n",
       "0  William Brent Bell  53.290793\n",
       "1          Kay Cannon  46.685970\n",
       "2        Jordan Peele  30.892053\n",
       "3             Typical   0.486775"
      ]
     },
     "metadata": {},
     "output_type": "display_data"
    }
   ],
   "source": [
    "\n",
    "# group directors and get median net_roi\n",
    "dft = df_directors[['director_1', 'net_roi']].groupby(['director_1']).median().sort_values('net_roi', ascending=False)\n",
    "\n",
    "# dft[(dft['net_roi'] < 1) & (dft['net_roi'] > -1)].sort_values('net_roi', ascending=False)['net_roi'].to_list()\n",
    "\n",
    "# flatten dft\n",
    "dft = dft.reset_index()\n",
    "\n",
    "# exclude anomolous 'home' movie\n",
    "dft = dft[(dft['net_roi'] < 88)]\n",
    "\n",
    "# isolate the top 3 directors\n",
    "dft = dft[0:3]\n",
    "\n",
    "# add the typical director based on median\n",
    "observation_typical_director = {'director_1': 'Typical', \n",
    "                                'net_roi': df['net_roi'].median()}\n",
    "\n",
    "#append row to the dataframe\n",
    "dft = dft.append(observation_typical_director, ignore_index=True)\n",
    "\n",
    "\n",
    "# map id's to names pulled from web\n",
    "id_to_name = {'nm0068587': 'William Brent Bell', 'nm0134224': 'Kay Cannon', 'nm1443502': 'Jordan Peele'}\n",
    "dft = dft.replace({'director_1': id_to_name})\n",
    "\n",
    "# verify it makes sense\n",
    "display(dft)"
   ]
  },
  {
   "cell_type": "code",
   "execution_count": 15,
   "metadata": {
    "ExecuteTime": {
     "end_time": "2020-06-20T15:36:20.308071Z",
     "start_time": "2020-06-20T15:36:20.187394Z"
    },
    "scrolled": true
   },
   "outputs": [
    {
     "data": {
      "text/plain": [
       "Text(0, 0.5, 'ROI')"
      ]
     },
     "execution_count": 15,
     "metadata": {},
     "output_type": "execute_result"
    },
    {
     "data": {
      "image/png": "[encoded data removed]",
      "text/plain": [
       "<Figure size 432x288 with 1 Axes>"
      ]
     },
     "metadata": {
      "needs_background": "light"
     },
     "output_type": "display_data"
    }
   ],
   "source": [
    "sns.barplot(x='director_1', y='net_roi', data=dft.head())\n",
    "plt.title('3 Top Directors Compared to Typical Directors (ROI)', fontsize=14)\n",
    "plt.xlabel(\"Directors\", fontsize=14)\n",
    "plt.ylabel(\"ROI\", fontsize=14)"
   ]
  }
 ],
 "metadata": {
  "kernelspec": {
   "display_name": "Python [conda env:learn-env] *",
   "language": "python",
   "name": "conda-env-learn-env-py"
  },
  "language_info": {
   "codemirror_mode": {
    "name": "ipython",
    "version": 3
   },
   "file_extension": ".py",
   "mimetype": "text/x-python",
   "name": "python",
   "nbconvert_exporter": "python",
   "pygments_lexer": "ipython3",
   "version": "3.6.9"
  },
  "toc": {
   "base_numbering": 1,
   "nav_menu": {},
   "number_sections": true,
   "sideBar": true,
   "skip_h1_title": false,
   "title_cell": "Table of Contents",
   "title_sidebar": "Contents",
   "toc_cell": false,
   "toc_position": {},
   "toc_section_display": true,
   "toc_window_display": false
  }
 },
 "nbformat": 4,
 "nbformat_minor": 2
}
